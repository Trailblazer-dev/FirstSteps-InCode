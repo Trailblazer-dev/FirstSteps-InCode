{
 "cells": [
  {
   "cell_type": "code",
   "execution_count": 1,
   "id": "e9882c02-5ce2-4036-8c35-8da2beb81e5c",
   "metadata": {},
   "outputs": [],
   "source": [
    "import tensorflow as tf"
   ]
  },
  {
   "cell_type": "code",
   "execution_count": 5,
   "id": "1edaea29-86fe-4ed6-96f5-24bf766e3ca5",
   "metadata": {},
   "outputs": [
    {
     "name": "stdout",
     "output_type": "stream",
     "text": [
      "4.0\n"
     ]
    }
   ],
   "source": [
    "# declare two symbolic floating-point  scalars\n",
    "a = tf.constant(1.5)\n",
    "b = tf.constant(2.5)\n",
    "add = tf.add(a,b)\n",
    "# bind 1.5 to 'a', 2.5 to 'b', and evaluate 'c'\n",
    "\n",
    "c = add.numpy()\n",
    "print(c)"
   ]
  },
  {
   "cell_type": "code",
   "execution_count": 6,
   "id": "26089544-795b-4797-b059-dbd6347f7b4a",
   "metadata": {},
   "outputs": [],
   "source": [
    "from tensorflow import keras\n"
   ]
  },
  {
   "cell_type": "code",
   "execution_count": null,
   "id": "e368d253-7203-44a0-aa82-6e83a6890717",
   "metadata": {},
   "outputs": [],
   "source": []
  }
 ],
 "metadata": {
  "kernelspec": {
   "display_name": "Python 3 (ipykernel)",
   "language": "python",
   "name": "python3"
  },
  "language_info": {
   "codemirror_mode": {
    "name": "ipython",
    "version": 3
   },
   "file_extension": ".py",
   "mimetype": "text/x-python",
   "name": "python",
   "nbconvert_exporter": "python",
   "pygments_lexer": "ipython3",
   "version": "3.10.13"
  }
 },
 "nbformat": 4,
 "nbformat_minor": 5
}
